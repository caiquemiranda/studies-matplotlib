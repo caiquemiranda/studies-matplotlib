{
 "cells": [
  {
   "cell_type": "markdown",
   "metadata": {},
   "source": [
    "### Part 5."
   ]
  },
  {
   "cell_type": "code",
   "execution_count": null,
   "metadata": {},
   "outputs": [],
   "source": [
    "import matplotlib.pyplot as plt\n",
    "\n",
    "x =[5, 7, 8, 7, 2, 17, 2, 9, 4, 11, 12, 9, 6]\n",
    "y =[99, 86, 87, 88, 100, 86, 103, 87, 94, 78, 77, 85, 86]\n",
    "\n",
    "plt.scatter(x, y, c =\"red\")\n",
    "plt.show()"
   ]
  },
  {
   "cell_type": "code",
   "execution_count": null,
   "metadata": {},
   "outputs": [],
   "source": [
    "import numpy as np\n",
    "import matplotlib.pyplot as plt\n",
    "\n",
    "# Creating the data\n",
    "N = 1000\n",
    "\n",
    "x = np.random.rand(N)\n",
    "y = np.random.rand(N)\n",
    "\n",
    "colors = (0,0,0)\n",
    "area = np.pi*3\n",
    "\n",
    "plt.scatter(x, y, s=area, c=colors, alpha=0.5)\n",
    "plt.title('Scatter plot studytonight.com')\n",
    "\n",
    "plt.xlabel('x')\n",
    "plt.ylabel('y')\n",
    "\n",
    "plt.show()"
   ]
  },
  {
   "cell_type": "code",
   "execution_count": null,
   "metadata": {},
   "outputs": [],
   "source": [
    "import matplotlib.pyplot as plt\n",
    "import numpy as np\n",
    "\n",
    "weight1=[67,57.2,59.6,59.64,55.8,61.2,60.45,61]\n",
    "height1=[101.7,197.6,98.3,125.1,113.7,157.7,136,148.9]\n",
    "weight2=[61.9,64,62.1,64.2,62.3,65.4,62.4,61.4]\n",
    "height2=[152.8,155.3,135.1,125.2,151.3,135,182.2,195.9]\n",
    "weight3=[68.2,67.2,68.4,68.7,71,71.3,70.8,70]\n",
    "height3=[165.8,170.9,192.8,135.4,161.4,136.1,167.1,235.1]\n",
    "\n",
    "weight=np.concatenate((weight1,weight2,weight3))\n",
    "height=np.concatenate((height1,height2,height3))\n",
    "\n",
    "plt.scatter(weight, height, marker='^', color=['red'])\n",
    "\n",
    "plt.xlabel('weight', fontsize=16)\n",
    "plt.ylabel('height', fontsize=16)\n",
    "\n",
    "plt.title('Group wise Weight vs Height scatter plot on studytonight',fontsize=20)\n",
    "\n",
    "plt.show()"
   ]
  },
  {
   "cell_type": "code",
   "execution_count": null,
   "metadata": {},
   "outputs": [],
   "source": [
    "import matplotlib.pyplot as plt\n",
    "import numpy as np\n",
    "\n",
    "x_axis = np.arange(0, 80, 4)\n",
    "y_axis = np.arange(0, 100, 3)\n",
    "\n",
    "[X, Y] = np.meshgrid(x_axis, y_axis)\n",
    "fig, ax = plt.subplots(1, 1)\n",
    "Z = np.cos(X / 2) + np.sin(Y / 4)\n",
    "ax.contour(X, Y, Z)\n",
    "\n",
    "ax.set_title('Contour Plot')\n",
    "ax.set_xlabel('x_axis')\n",
    "ax.set_ylabel('y_axis')\n",
    "\n",
    "plt.show()"
   ]
  },
  {
   "cell_type": "code",
   "execution_count": null,
   "metadata": {},
   "outputs": [],
   "source": [
    "import numpy as np\n",
    "import matplotlib.pyplot as plt\n",
    "\n",
    "x = np.linspace(-5.0, 5.0, 120)\n",
    "y = np.linspace(-5.0, 5.0, 120)\n",
    "\n",
    "X, Y = np.meshgrid(x, y)\n",
    "Z = np.sqrt(X**2 + Y**2)\n",
    "\n",
    "fig,ax=plt.subplots(1,1)\n",
    "cp = ax.contourf(X, Y, Z)\n",
    "\n",
    "ax.set_title('A filled contour plot')\n",
    "ax.set_xlabel('x (cm)')\n",
    "ax.set_ylabel('y (cm)')\n",
    "\n",
    "plt.show()"
   ]
  },
  {
   "cell_type": "code",
   "execution_count": null,
   "metadata": {},
   "outputs": [],
   "source": [
    "import numpy as np\n",
    "import matplotlib.pyplot as plt\n",
    "\n",
    "x_pos = 0\n",
    "y_pos = 0\n",
    "x_direct = 1\n",
    "y_direct = 1\n",
    "\n",
    "fig, ax = plt.subplots(figsize = (10, 7))\n",
    "\n",
    "ax.quiver(x_pos, y_pos, x_direct, y_direct)\n",
    "ax.set_title('Quiver plot with a single arrow')\n",
    "\n",
    "plt.show()"
   ]
  },
  {
   "cell_type": "code",
   "execution_count": null,
   "metadata": {},
   "outputs": [],
   "source": [
    "import numpy as np\n",
    "import matplotlib.pyplot as plt\n",
    "\n",
    "x_pos = [0, 0]\n",
    "y_pos = [0, 0]\n",
    "x_direct = [1, 0]\n",
    "y_direct = [1, -1]\n",
    "\n",
    "fig, ax = plt.subplots(figsize = (12, 7))\n",
    "\n",
    "ax.quiver(x_pos, y_pos, x_direct, y_direct,scale = 8)\n",
    "ax.axis([-1.5, 1.5, -1.5, 1.5])\n",
    "\n",
    "plt.show()"
   ]
  },
  {
   "cell_type": "code",
   "execution_count": null,
   "metadata": {},
   "outputs": [],
   "source": [
    "import matplotlib.pyplot as plt\n",
    "import numpy as np\n",
    "\n",
    "x,y = np.meshgrid(np.arange(-3, 3, .3), np.arange(-3, 3, .35))\n",
    "z = x*np.exp(-x**2 - y**2)\n",
    "v, u = np.gradient(z, .2, .2)\n",
    "fig, ax = plt.subplots()\n",
    "q = ax.quiver(x,y,u,v)\n",
    "\n",
    "plt.show()"
   ]
  },
  {
   "cell_type": "markdown",
   "metadata": {},
   "source": [
    "### End."
   ]
  }
 ],
 "metadata": {
  "kernelspec": {
   "display_name": "Python 3.10.5 64-bit",
   "language": "python",
   "name": "python3"
  },
  "language_info": {
   "name": "python",
   "version": "3.10.5"
  },
  "orig_nbformat": 4,
  "vscode": {
   "interpreter": {
    "hash": "74af3d2f25f1e46ebd2903d59225d79e4675ec224d56c01fc30cd168c2010d53"
   }
  }
 },
 "nbformat": 4,
 "nbformat_minor": 2
}
