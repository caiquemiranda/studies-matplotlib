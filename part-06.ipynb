{
 "cells": [
  {
   "cell_type": "markdown",
   "metadata": {},
   "source": [
    "### Part 6."
   ]
  },
  {
   "cell_type": "code",
   "execution_count": 1,
   "metadata": {},
   "outputs": [
    {
     "data": {
      "image/png": "[encoded data removed]",
      "text/plain": [
       "<Figure size 432x288 with 1 Axes>"
      ]
     },
     "metadata": {
      "needs_background": "light"
     },
     "output_type": "display_data"
    }
   ],
   "source": [
    "import matplotlib.pyplot as plt\n",
    "\n",
    "value1 = [84,77,20,40,67,62,75,78,71,32,98,89,78,67,72,82,87,66,56,52]\n",
    "value2=[62,5,91,25,35,32,96,99,3,90,95,34,27,55,100,15,71,11,37,21]\n",
    "value3=[23,89,12,78,72,89,25,69,68,86,19,48,15,16,16,75,65,31,25,52]\n",
    "value4=[59,73,73,16,81,61,88,98,10,87,29,72,16,23,72,88,78,99,75,30]\n",
    "\n",
    "box_plot_data=[value1,value2,value3,value4]\n",
    "\n",
    "plt.boxplot(box_plot_data)\n",
    "\n",
    "plt.show()"
   ]
  },
  {
   "cell_type": "code",
   "execution_count": 2,
   "metadata": {},
   "outputs": [
    {
     "data": {
      "image/png": "[encoded data removed]",
      "text/plain": [
       "<Figure size 432x288 with 1 Axes>"
      ]
     },
     "metadata": {
      "needs_background": "light"
     },
     "output_type": "display_data"
    }
   ],
   "source": [
    "import matplotlib.pyplot as plt\n",
    "\n",
    "value1 = [82,76,24,40,67,62,75,78,71,32,98,89,78,67,72,82,87,66,56,52]\n",
    "value2=[62,5,91,25,36,32,96,95,3,90,95,32,27,55,100,15,71,11,37,21]\n",
    "value3=[23,89,12,78,72,89,25,69,68,86,19,49,15,16,16,75,65,31,25,52]\n",
    "value4=[59,73,70,16,81,61,88,98,10,87,29,72,16,23,72,88,78,99,75,30]\n",
    "\n",
    "box_plot_data=[value1,value2,value3,value4]\n",
    "\n",
    "plt.boxplot(box_plot_data,patch_artist=True,labels=['subject1','subject2','subject3','subject4'])\n",
    "\n",
    "plt.show()"
   ]
  },
  {
   "cell_type": "code",
   "execution_count": 3,
   "metadata": {},
   "outputs": [
    {
     "data": {
      "image/png": "[encoded data removed]",
      "text/plain": [
       "<Figure size 432x288 with 1 Axes>"
      ]
     },
     "metadata": {
      "needs_background": "light"
     },
     "output_type": "display_data"
    }
   ],
   "source": [
    "import matplotlib.pyplot as plt\n",
    "\n",
    "value1 = [84,76,24,46,67,62,78,78,71,38,98,89,78,69,72,82,87,68,56,59]\n",
    "value2=[62,5,91,25,39,32,96,99,3,98,95,32,27,55,100,15,71,11,37,29]\n",
    "value3=[23,89,12,78,72,89,25,69,68,86,19,49,15,16,16,75,65,31,25,52]\n",
    "value4=[59,73,70,16,81,61,88,98,10,87,29,72,16,23,72,88,78,99,75,30]\n",
    "box_plot_data=[value1,value2,value3,value4]\n",
    "\n",
    "plt.boxplot(box_plot_data,notch='True',patch_artist=True,labels= \n",
    "            ['subject1','subject2','subject3','subject4'])\n",
    "\n",
    "plt.show()"
   ]
  },
  {
   "cell_type": "code",
   "execution_count": 4,
   "metadata": {},
   "outputs": [
    {
     "data": {
      "image/png": "[encoded data removed]",
      "text/plain": [
       "<Figure size 432x288 with 1 Axes>"
      ]
     },
     "metadata": {
      "needs_background": "light"
     },
     "output_type": "display_data"
    }
   ],
   "source": [
    "import matplotlib.pyplot as plt\n",
    "\n",
    "value1 = [82,76,24,40,67,62,75,78,71,32,98,89,78,67,72,82,87,66,56,52]\n",
    "value2=[62,5,91,25,36,32,96,95,3,90,95,32,27,55,100,15,71,11,37,21]\n",
    "value3=[23,89,12,78,72,89,25,69,68,86,19,49,15,16,16,75,65,31,25,52]\n",
    "value4=[59,73,70,16,81,61,88,98,10,87,29,72,16,23,72,88,78,99,75,30]\n",
    "\n",
    "box_plot_data=[value1,value2,value3,value4]\n",
    "box=plt.boxplot(box_plot_data,vert=0,patch_artist=True,labels= \n",
    "                ['course1','course2','course3','course4'],)\n",
    "\n",
    "\n",
    "colors = ['cyan', 'maroon', 'lightgreen', 'tan']\n",
    "\n",
    "for patch, color in zip(box['boxes'], colors):\n",
    "    patch.set_facecolor(color)\n",
    "\n",
    "plt.show()"
   ]
  },
  {
   "attachments": {},
   "cell_type": "markdown",
   "metadata": {},
   "source": [
    "### MATPLOTLIB VIOLIN PLOT - VIOLINPLOT() FUNCTION"
   ]
  },
  {
   "attachments": {},
   "cell_type": "markdown",
   "metadata": {},
   "source": [
    "In this tutorial, we will cover the Violin Plot and how to create a violin plot using the violinplot() function in the Matplotlib library.\n",
    "\n",
    "The Violin Plot is used to indicate the probability density of data at different values and it is quite similar to the Matplotlib Box Plot."
   ]
  },
  {
   "attachments": {},
   "cell_type": "markdown",
   "metadata": {},
   "source": [
    "- These plots are mainly a combination of Box Plots and Histograms.\n",
    "\n",
    "- The violin plot usually portrays the distribution, median, interquartile range of data.\n",
    "\n",
    "- In this, the interquartile and median are statistical information that is provided by the box plot whereas the distribution is being provided by the histogram.\n",
    "\n",
    "- The violin plots are also used to represent the comparison of a variable distribution across different \"categories\"; like the Box plots.\n",
    "\n",
    "- The Violin plots are more informative as they show the full distribution of the data."
   ]
  },
  {
   "attachments": {},
   "cell_type": "markdown",
   "metadata": {},
   "source": [
    "Here is a figure showing common components of the Box Plot and Violin\n",
    "Plot:"
   ]
  },
  {
   "attachments": {},
   "cell_type": "markdown",
   "metadata": {},
   "source": [
    "CREATION OF THE VIOLIN\n",
    "PLOT"
   ]
  },
  {
   "attachments": {},
   "cell_type": "markdown",
   "metadata": {},
   "source": [
    "The violinplot() method is used for the creation of the violin plot.\n",
    "The syntax required for the method is as follows:"
   ]
  },
  {
   "cell_type": "code",
   "execution_count": null,
   "metadata": {},
   "outputs": [],
   "source": [
    "violinplot(dataset, positions, vert, widths, showmeans, showextrema,showmedians,quantiles,points=1,\n",
    "bw_method, *, data)"
   ]
  },
  {
   "attachments": {},
   "cell_type": "markdown",
   "metadata": {},
   "source": [
    "### PARAMETERS"
   ]
  },
  {
   "attachments": {},
   "cell_type": "markdown",
   "metadata": {},
   "source": [
    "The description of the Parameters of this function is as follows:\n",
    "\n",
    "- dataset\n",
    "This parameter denotes the array or sequence of vectors. It is\n",
    "the input data.\n",
    "\n",
    "- positions\n",
    "This parameter is used to set the positions of the violins. In this, the\n",
    "ticks and limits are set automatically in order to match the positions.\n",
    "It is an array-like structured data with the default as = [1, 2, …, n].\n",
    "\n",
    "- vert\n",
    "This parameter contains the boolean value. If the value of this\n",
    "parameter is set to true then it will create a vertical plot, otherwise,\n",
    "it will create a horizontal plot.\n",
    "\n",
    "- showmeans\n",
    "This parameter contains a boolean value with false as its default\n",
    "value. If the value of this parameter is True, then it will toggle the\n",
    "rendering of the means.\n",
    "\n",
    "- showextrema\n",
    "This parameter contains the boolean values with false as its default\n",
    "value. If the value of this parameter is True, then it will toggle the\n",
    "rendering of the extrema.\n",
    "\n",
    "- showmedians\n",
    "This parameter contains the boolean values with false as its default\n",
    "value.If the value of this parameter is True, then it will toggle the\n",
    "rendering of the medians.\n",
    "\n",
    "- quantiles\n",
    "This is an array-like data structure having None as its default\n",
    "value.If value of this parameter is not None then,it set a list of floats\n",
    "in interval [0, 1] for each violin,which then stands for the quantiles\n",
    "that will be rendered for that violin.\n",
    "\n",
    "- points\n",
    "It is scalar in nature and is used to define the number of points to\n",
    "evaluate each of the Gaussian kernel density estimations.\n",
    "\n",
    "- bw_method\n",
    "This method is used to calculate the estimator bandwidth, for which\n",
    "there are many different ways of calculation. The default rule used\n",
    "is Scott's Rule, but you can choose ‘silverman’, a scalar constant,\n",
    "or a callable."
   ]
  },
  {
   "attachments": {},
   "cell_type": "markdown",
   "metadata": {},
   "source": [
    "Now its time to dive into some examples in order to clear the concepts:"
   ]
  },
  {
   "attachments": {},
   "cell_type": "markdown",
   "metadata": {},
   "source": [
    "### VIOLIN PLOT BASIC EXAMPLE"
   ]
  },
  {
   "attachments": {},
   "cell_type": "markdown",
   "metadata": {},
   "source": [
    "Below we have a simple example where we will create violin plots for a\n",
    "different collection of data."
   ]
  },
  {
   "cell_type": "code",
   "execution_count": 5,
   "metadata": {},
   "outputs": [
    {
     "data": {
      "image/png": "[encoded data removed]",
      "text/plain": [
       "<Figure size 432x288 with 1 Axes>"
      ]
     },
     "metadata": {
      "needs_background": "light"
     },
     "output_type": "display_data"
    }
   ],
   "source": [
    "import matplotlib.pyplot as plt\n",
    "import numpy as np\n",
    "\n",
    "np.random.seed(10)\n",
    "\n",
    "collectn_1 = np.random.normal(120, 10, 200)\n",
    "collectn_2 = np.random.normal(150, 30, 200)\n",
    "collectn_3 = np.random.normal(50, 20, 200)\n",
    "collectn_4 = np.random.normal(100, 25, 200)\n",
    "\n",
    "data_to_plot = [collectn_1, collectn_2, collectn_3, collectn_4]\n",
    "\n",
    "fig = plt.figure()\n",
    "ax = fig.add_axes([0,0,1,1])\n",
    "bp = ax.violinplot(data_to_plot)\n",
    "\n",
    "plt.show()"
   ]
  },
  {
   "attachments": {},
   "cell_type": "markdown",
   "metadata": {},
   "source": [
    "Let us take a look at the Live example of the Violin Plot:"
   ]
  },
  {
   "cell_type": "code",
   "execution_count": 1,
   "metadata": {},
   "outputs": [
    {
     "data": {
      "image/png": "[encoded data removed]",
      "text/plain": [
       "<Figure size 648x288 with 2 Axes>"
      ]
     },
     "metadata": {
      "needs_background": "light"
     },
     "output_type": "display_data"
    }
   ],
   "source": [
    "import numpy as np\n",
    "import matplotlib.pyplot as plt\n",
    "uniform = np.arange(-100, 100)\n",
    "normal = np.random.normal(size = 100)*40\n",
    "fig, (ax1, ax2) = plt.subplots(nrows = 1,ncols = 2, figsize =(9, 4), sharey =\n",
    "True)\n",
    "ax1.set_title('The Uniform Distribution')\n",
    "ax1.set_ylabel('Observed values')\n",
    "ax1.violinplot(uniform)\n",
    "ax2.set_title('The Normal Distribution')\n",
    "ax2.violinplot(normal)\n",
    "plt.show()"
   ]
  },
  {
   "attachments": {},
   "cell_type": "markdown",
   "metadata": {},
   "source": [
    "### MATPLOTLIB 3D"
   ]
  },
  {
   "attachments": {},
   "cell_type": "markdown",
   "metadata": {},
   "source": [
    "MATPLOTLIB 3D PLOTTING - LINE AND SCATTER PLOT"
   ]
  },
  {
   "attachments": {},
   "cell_type": "markdown",
   "metadata": {},
   "source": [
    "In this tutorial, we will cover Three Dimensional Plotting in the\n",
    "Matplotlib.\n",
    "It is important to note that Matplotlib was initially designed with only twodimensional\n",
    "plotting in mind. But later on, some three-dimensional\n",
    "plotting utilities were built on top of Matplotlib's two-dimensional display,\n",
    "which provides a set of tools for three-dimensional data visualization in\n",
    "matplotlib.\n",
    "Also, a 2D plot is used to show the relationships between a single pair of axes\n",
    "that is x and y whereas the 3D plot, on the other hand, allows us to explore\n",
    "relationships of 3 pairs of axes that is x-y, x-z, and y-z"
   ]
  },
  {
   "attachments": {},
   "cell_type": "markdown",
   "metadata": {},
   "source": [
    "### THREE DIMENSIONAL PLOTTING"
   ]
  },
  {
   "attachments": {},
   "cell_type": "markdown",
   "metadata": {},
   "source": [
    "The 3D plotting in Matplotlib can be done by enabling the utility toolkit.\n",
    "The utility toolkit can be enabled by importing the mplot3d library, which\n",
    "comes with your standard Matplotlib installation via pip.\n",
    "After importing this sub-module, 3D plots can be created by passing the\n",
    "keyword projection=\"3d\" to any of the regular axes creation functions in\n",
    "Matplotlib.\n",
    "Let us cover some examples for three-dimensional plotting using this\n",
    "submodule in matplotlib."
   ]
  },
  {
   "cell_type": "code",
   "execution_count": 7,
   "metadata": {},
   "outputs": [
    {
     "name": "stdout",
     "output_type": "stream",
     "text": [
      "Author: Caique Miranda\n",
      "\n",
      "Github username: caiquemiranda\n",
      "\n",
      "matplotlib: 3.5.2\n",
      "numpy     : 1.23.0\n",
      "sys       : 3.10.5 (tags/v3.10.5:f377153, Jun  6 2022, 16:14:13) [MSC v.1929 64 bit (AMD64)]\n",
      "\n"
     ]
    }
   ],
   "source": [
    "%reload_ext watermark\n",
    "%watermark -a \"Caique Miranda\" -gu \"caiquemiranda\" -iv"
   ]
  },
  {
   "cell_type": "markdown",
   "metadata": {},
   "source": [
    "### End."
   ]
  }
 ],
 "metadata": {
  "kernelspec": {
   "display_name": "Python 3.10.5 64-bit",
   "language": "python",
   "name": "python3"
  },
  "language_info": {
   "codemirror_mode": {
    "name": "ipython",
    "version": 3
   },
   "file_extension": ".py",
   "mimetype": "text/x-python",
   "name": "python",
   "nbconvert_exporter": "python",
   "pygments_lexer": "ipython3",
   "version": "3.10.5"
  },
  "orig_nbformat": 4,
  "vscode": {
   "interpreter": {
    "hash": "74af3d2f25f1e46ebd2903d59225d79e4675ec224d56c01fc30cd168c2010d53"
   }
  }
 },
 "nbformat": 4,
 "nbformat_minor": 2
}
