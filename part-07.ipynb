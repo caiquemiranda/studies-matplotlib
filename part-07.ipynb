{
 "cells": [
  {
   "cell_type": "markdown",
   "metadata": {},
   "source": [
    "### Part 7."
   ]
  },
  {
   "cell_type": "code",
   "execution_count": null,
   "metadata": {},
   "outputs": [],
   "source": [
    "from mpl_toolkits import mplot3d\n",
    "import numpy as np\n",
    "import matplotlib.pyplot as plt\n",
    "\n",
    "fig = plt.figure()\n",
    "ax = plt.axes(projection='3d')\n",
    "\n",
    "z = np.linspace(0, 1, 100)\n",
    "x = z * np.sin(30 * z)\n",
    "y = z * np.cos(30 * z)\n",
    "\n",
    "ax.plot3D(x, y, z, 'maroon')\n",
    "ax.set_title('3D line plot')\n",
    "\n",
    "plt.show()"
   ]
  },
  {
   "cell_type": "code",
   "execution_count": null,
   "metadata": {},
   "outputs": [],
   "source": [
    "fig = plt.figure()\n",
    "ax = plt.axes(projection=\"3d\")\n",
    "\n",
    "z_line = np.linspace(0, 15, 500)\n",
    "x_line = np.cos(z_line)\n",
    "y_line = np.sin(z_line)\n",
    "\n",
    "ax.plot3D(x_line, y_line, z_line, 'blue')\n",
    "\n",
    "z_points = 15 * np.random.random(500)\n",
    "x_points = np.cos(z_points) + 0.1 * np.random.randn(500)\n",
    "y_points = np.sin(z_points) + 0.1 * np.random.randn(500)\n",
    "\n",
    "ax.scatter3D(x_points, y_points, z_points, c=z_points, cmap='hsv');\n",
    "\n",
    "plt.show()"
   ]
  },
  {
   "cell_type": "code",
   "execution_count": null,
   "metadata": {},
   "outputs": [],
   "source": [
    "from mpl_toolkits import mplot3d\n",
    "import numpy as np\n",
    "import matplotlib.pyplot as plt\n",
    "from matplotlib import cm\n",
    "import math\n",
    "\n",
    "x = [i for i in range(0, 200, 100)]\n",
    "y = [i for i in range(0, 200, 100)]\n",
    "X, Y = np.meshgrid(x, y)\n",
    "Z = []\n",
    "\n",
    "for i in x:\n",
    "    t = []\n",
    "    for j in y:\n",
    "        t.append(math.sin(math.sqrt(i*2+j*2)))\n",
    "    \n",
    "    Z.append(t)\n",
    "\n",
    "fig = plt.figure()\n",
    "ax = plt.axes(projection='3d')\n",
    "\n",
    "ax.contour3D(X, Y, Z, 50, cmap=cm.cool)\n",
    "\n",
    "ax.set_xlabel('a')\n",
    "ax.set_ylabel('b')\n",
    "ax.set_zlabel('c')\n",
    "ax.set_title('3D contour Plot for sine')\n",
    "\n",
    "plt.show()"
   ]
  },
  {
   "cell_type": "code",
   "execution_count": null,
   "metadata": {},
   "outputs": [],
   "source": [
    "from mpl_toolkits.mplot3d import axes3d\n",
    "from matplotlib import pyplot\n",
    "\n",
    "fig = pyplot.figure()\n",
    "\n",
    "wf = fig.add_subplot(111, projection='3d')\n",
    "\n",
    "x, y, z = axes3d.get_test_data(0.07)\n",
    "\n",
    "wf.plot_wireframe(x,y,z, rstride=2, cstride=2, color='maroon')\n",
    "wf.set_title('3D wireframe plot')\n",
    "\n",
    "pyplot.show()"
   ]
  },
  {
   "cell_type": "code",
   "execution_count": null,
   "metadata": {},
   "outputs": [],
   "source": [
    "from mpl_toolkits import mplot3d\n",
    "import numpy\n",
    "\n",
    "a = numpy.linspace(-5, 5, 25)\n",
    "b = numpy.linspace(-5, 5, 25)\n",
    "\n",
    "x, y = numpy.meshgrid(a, b)\n",
    "\n",
    "z = numpy.cos(numpy.sqrt(x**2 + y**2))\n",
    "\n",
    "fig = pyplot.figure()\n",
    "\n",
    "wf = pyplot.axes(projection ='3d')\n",
    "wf.plot_wireframe(x, y, z, color ='blue')\n",
    "wf.set_title('Example 2')\n",
    "\n",
    "pyplot.show()"
   ]
  },
  {
   "cell_type": "code",
   "execution_count": null,
   "metadata": {},
   "outputs": [],
   "source": [
    "from mpl_toolkits import mplot3d\n",
    "import numpy as np\n",
    "import matplotlib.pyplot as plt\n",
    "\n",
    "x = np.outer(np.linspace(-4, 4, 33), np.ones(33))\n",
    "y = x.copy().T\n",
    "z = (np.sin(x **2) + np.cos(y **2) )\n",
    "\n",
    "fig = plt.figure(figsize =(14, 9))\n",
    "\n",
    "ax = plt.axes(projection ='3d')\n",
    "ax.plot_surface(x, y, z)\n",
    "\n",
    "plt.show()"
   ]
  },
  {
   "cell_type": "code",
   "execution_count": null,
   "metadata": {},
   "outputs": [],
   "source": [
    "from mpl_toolkits import mplot3d\n",
    "import numpy as np\n",
    "import matplotlib.pyplot as plt\n",
    "\n",
    "x = np.outer(np.linspace(-3, 3, 32), np.ones(32))\n",
    "y = x.copy().T\n",
    "z = (np.sin(x **2) + np.cos(y **2) )\n",
    "\n",
    "fig = plt.figure(figsize =(14, 9))\n",
    "ax = plt.axes(projection ='3d')\n",
    "my_cmap = plt.get_cmap('cool')\n",
    "surf = ax.plot_surface(x, y, z, cmap = my_cmap, edgecolor ='none')\n",
    "fig.colorbar(surf, ax = ax, shrink = 0.7, aspect = 7)\n",
    "ax.set_title('Surface plot')\n",
    "\n",
    "plt.show()"
   ]
  }
 ],
 "metadata": {
  "language_info": {
   "name": "python"
  },
  "orig_nbformat": 4
 },
 "nbformat": 4,
 "nbformat_minor": 2
}
