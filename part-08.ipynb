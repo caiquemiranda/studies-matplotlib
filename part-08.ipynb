{
 "cells": [
  {
   "cell_type": "markdown",
   "metadata": {},
   "source": [
    "### Part 8."
   ]
  },
  {
   "cell_type": "code",
   "execution_count": null,
   "metadata": {},
   "outputs": [],
   "source": [
    "import matplotlib.pyplot as plt\n",
    "fig = plt.figure()\n",
    "\n",
    "ax = fig.add_axes([0,0,1,1])\n",
    "\n",
    "ax.set_title('axes title')\n",
    "ax.set_xlabel('xlabel')\n",
    "ax.set_ylabel('ylabel')\n",
    "\n",
    "ax.text(3, 8, 'This is boxed italics text in data coords', style='italic',\n",
    "bbox = {'facecolor': 'orange'})\n",
    "\n",
    "ax.text(2, 6, r'an equation: $E = mc^2$', fontsize = 16)\n",
    "\n",
    "ax.text(4, 0.05, 'This is colored text in axes coords',\n",
    "verticalalignment = 'bottom', color = 'maroon', fontsize = 15)\n",
    "\n",
    "ax.plot([2], [1], 'o')\n",
    "ax.annotate('annotate', xy = (2, 1), xytext = (3, 4),\n",
    "\n",
    "arrowprops = dict(facecolor = 'maroon', shrink = 0.05))\n",
    "ax.axis([0, 10, 0, 10])\n",
    "\n",
    "plt.show()"
   ]
  },
  {
   "cell_type": "code",
   "execution_count": null,
   "metadata": {},
   "outputs": [],
   "source": [
    "import numpy as np\n",
    "import matplotlib.pyplot as plt\n",
    "\n",
    "t = np.arange(0.0, 2.0, 0.01)\n",
    "s = np.cos(1*np.pi*t)\n",
    "\n",
    "plt.plot(t,s)\n",
    "\n",
    "plt.title(r'$\\alpha_i> \\beta_i$', fontsize=20)\n",
    "plt.text(0.6, 0.6, r'$\\mathcal{A}\\mathrm{cos}(2 \\omega t)$', fontsize = 20)\n",
    "\n",
    "plt.xlabel('The time (s)')\n",
    "plt.ylabel('volts (mV)')\n",
    "\n",
    "plt.show()"
   ]
  }
 ],
 "metadata": {
  "kernelspec": {
   "display_name": "Python 3.10.5 64-bit",
   "language": "python",
   "name": "python3"
  },
  "language_info": {
   "name": "python",
   "version": "3.10.5"
  },
  "orig_nbformat": 4,
  "vscode": {
   "interpreter": {
    "hash": "74af3d2f25f1e46ebd2903d59225d79e4675ec224d56c01fc30cd168c2010d53"
   }
  }
 },
 "nbformat": 4,
 "nbformat_minor": 2
}
