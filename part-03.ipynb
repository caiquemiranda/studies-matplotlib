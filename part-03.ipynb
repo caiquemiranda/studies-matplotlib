{
 "cells": [
  {
   "cell_type": "markdown",
   "metadata": {},
   "source": [
    "### Part 3."
   ]
  },
  {
   "cell_type": "code",
   "execution_count": null,
   "metadata": {},
   "outputs": [],
   "source": [
    "import numpy as np\n",
    "import matplotlib.pyplot as plt\n",
    "\n",
    "data = {'Computer Networks':20, 'DBMS':15, 'Java':30,'C':35}\n",
    "courses = list(data.keys())\n",
    "values = list(data.values())\n",
    "fig = plt.figure(figsize = (10, 5))\n",
    "\n",
    "plt.bar(courses, values, color ='magenta',width = 0.4)\n",
    "\n",
    "plt.xlabel(\"Books offered\")\n",
    "plt.ylabel(\"No. of books provided\")\n",
    "plt.title(\"Books provided by the institute\")\n",
    "\n",
    "plt.show()"
   ]
  },
  {
   "cell_type": "code",
   "execution_count": null,
   "metadata": {},
   "outputs": [],
   "source": [
    "import numpy as np\n",
    "import matplotlib.pyplot as plt\n",
    "\n",
    "N = 5\n",
    "group_a = (25, 37, 39, 23, 56)\n",
    "group_b = (29, 36, 38, 25, 22)\n",
    "\n",
    "ind = np.arange(N) # the x locations for the groups\n",
    "width = 0.39\n",
    "\n",
    "fig = plt.figure()\n",
    "ax = fig.add_axes([0,0,1,1])\n",
    "\n",
    "ax.bar(ind, group_a, width, color='c')\n",
    "ax.bar(ind, group_b, width,bottom=group_a, color='b')\n",
    "\n",
    "ax.set_ylabel('Scores')\n",
    "ax.set_title('Scores by two groups')\n",
    "\n",
    "ax.set_xticks(ind, ('G1', 'G2', 'G3', 'G4', 'G5'))\n",
    "ax.set_yticks(np.arange(0, 81, 10))\n",
    "\n",
    "ax.legend(labels=['Group A', 'Group B'])\n",
    "\n",
    "plt.show()"
   ]
  },
  {
   "cell_type": "code",
   "execution_count": null,
   "metadata": {},
   "outputs": [],
   "source": [
    "import numpy as np\n",
    "import matplotlib.pyplot as plt\n",
    "\n",
    "data = [[30, 25, 50, 20],[40, 23, 51, 17],[35, 22, 45, 19]]\n",
    "X = np.arange(4)\n",
    "\n",
    "fig = plt.figure()\n",
    "ax = fig.add_axes([0,0,1,1])\n",
    "\n",
    "ax.bar(X + 0.00, data[0], color = 'c', width = 0.25)\n",
    "ax.bar(X + 0.25, data[1], color = 'g', width = 0.25)\n",
    "ax.bar(X + 0.50, data[2], color = 'b', width = 0.25)\n",
    "\n",
    "plt.show()"
   ]
  },
  {
   "cell_type": "code",
   "execution_count": null,
   "metadata": {},
   "outputs": [],
   "source": [
    "import numpy as np\n",
    "import matplotlib.mlab as mlab\n",
    "import matplotlib.pyplot as plt\n",
    "\n",
    "x = [21,22,23,4,5,6,77,8,9,10,31,32,33,34,35,36,37,18,49,50,100]\n",
    "\n",
    "num_bins = 5\n",
    "\n",
    "n, bins, patches = plt.hist(x, num_bins, facecolor='orange', alpha=0.8)\n",
    "\n",
    "plt.show()"
   ]
  },
  {
   "cell_type": "code",
   "execution_count": null,
   "metadata": {},
   "outputs": [],
   "source": [
    "import matplotlib.pyplot as plt\n",
    "import numpy as np\n",
    "\n",
    "plt.figure(figsize=[10,8])\n",
    "\n",
    "x = 0.3*np.random.randn(1000)\n",
    "y = 0.3*np.random.randn(1000)\n",
    "\n",
    "n, bins, patches = plt.hist([x, y])\n",
    "\n",
    "plt.show()"
   ]
  },
  {
   "cell_type": "markdown",
   "metadata": {},
   "source": [
    "### End"
   ]
  }
 ],
 "metadata": {
  "kernelspec": {
   "display_name": "Python 3.10.5 64-bit",
   "language": "python",
   "name": "python3"
  },
  "language_info": {
   "name": "python",
   "version": "3.10.5"
  },
  "orig_nbformat": 4,
  "vscode": {
   "interpreter": {
    "hash": "74af3d2f25f1e46ebd2903d59225d79e4675ec224d56c01fc30cd168c2010d53"
   }
  }
 },
 "nbformat": 4,
 "nbformat_minor": 2
}
